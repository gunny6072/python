{
  "nbformat": 4,
  "nbformat_minor": 0,
  "metadata": {
    "colab": {
      "name": "PYTHON ass1.ipynb",
      "provenance": [],
      "collapsed_sections": []
    },
    "kernelspec": {
      "name": "python3",
      "display_name": "Python 3"
    }
  },
  "cells": [
    {
      "cell_type": "markdown",
      "metadata": {
        "id": "jdMHeHWwXLua",
        "colab_type": "text"
      },
      "source": [
        "**2**. To print numbners divisible by 7 but not mutiples of 5, between 2000 and 3200 (both included). The numbers obtained should be printed\n",
        "in a comma-separated sequence on a single line.\n"
      ]
    },
    {
      "cell_type": "code",
      "metadata": {
        "id": "7a3nKLLCgoWO",
        "colab_type": "code",
        "outputId": "ed788f6f-2cc9-4ba8-b161-0c2ba135e0b2",
        "colab": {
          "base_uri": "https://localhost:8080/",
          "height": 55
        }
      },
      "source": [
        "s=[]\n",
        "for i in range(2000, 3200):\n",
        "  if (i%7==0 and i%5!=0):\n",
        "    s.append(str(i))\n",
        "print(', '.join(s))"
      ],
      "execution_count": 0,
      "outputs": [
        {
          "output_type": "stream",
          "text": [
            "2002, 2009, 2016, 2023, 2037, 2044, 2051, 2058, 2072, 2079, 2086, 2093, 2107, 2114, 2121, 2128, 2142, 2149, 2156, 2163, 2177, 2184, 2191, 2198, 2212, 2219, 2226, 2233, 2247, 2254, 2261, 2268, 2282, 2289, 2296, 2303, 2317, 2324, 2331, 2338, 2352, 2359, 2366, 2373, 2387, 2394, 2401, 2408, 2422, 2429, 2436, 2443, 2457, 2464, 2471, 2478, 2492, 2499, 2506, 2513, 2527, 2534, 2541, 2548, 2562, 2569, 2576, 2583, 2597, 2604, 2611, 2618, 2632, 2639, 2646, 2653, 2667, 2674, 2681, 2688, 2702, 2709, 2716, 2723, 2737, 2744, 2751, 2758, 2772, 2779, 2786, 2793, 2807, 2814, 2821, 2828, 2842, 2849, 2856, 2863, 2877, 2884, 2891, 2898, 2912, 2919, 2926, 2933, 2947, 2954, 2961, 2968, 2982, 2989, 2996, 3003, 3017, 3024, 3031, 3038, 3052, 3059, 3066, 3073, 3087, 3094, 3101, 3108, 3122, 3129, 3136, 3143, 3157, 3164, 3171, 3178, 3192, 3199\n"
          ],
          "name": "stdout"
        }
      ]
    },
    {
      "cell_type": "code",
      "metadata": {
        "id": "nzs5PV_M9xRP",
        "colab_type": "code",
        "colab": {}
      },
      "source": [
        ""
      ],
      "execution_count": 0,
      "outputs": []
    },
    {
      "cell_type": "markdown",
      "metadata": {
        "id": "9b1r_DNihIWN",
        "colab_type": "text"
      },
      "source": [
        "3.Write a Python program to accept the user's first and last name and then getting them printed in the the reverse order with a space between first name and last name.# New Section"
      ]
    },
    {
      "cell_type": "code",
      "metadata": {
        "id": "tnwlX4KvbSON",
        "colab_type": "code",
        "outputId": "bce0561d-891e-445b-8ba6-47444b884e06",
        "colab": {
          "base_uri": "https://localhost:8080/",
          "height": 69
        }
      },
      "source": [
        "first_name=input('first_name ')\n",
        "last_name=input('last_name ')\n",
        "\n",
        "reverse_name=first_name[::-1]+' '+last_name[::-1]\n",
        "print(reverse_name)"
      ],
      "execution_count": 0,
      "outputs": [
        {
          "output_type": "stream",
          "text": [
            "first_name Ganesh\n",
            "last_name Kumar\n",
            "hsenaG ramuK\n"
          ],
          "name": "stdout"
        }
      ]
    },
    {
      "cell_type": "markdown",
      "metadata": {
        "id": "WhA0ohifguUF",
        "colab_type": "text"
      },
      "source": [
        "**4**. Write a Python program to find the volume of a sphere with diameter 12 cm."
      ]
    },
    {
      "cell_type": "code",
      "metadata": {
        "id": "YKY0b7uyfESk",
        "colab_type": "code",
        "outputId": "f30620fb-7bb3-4626-d7c1-3115b0a62f48",
        "colab": {
          "base_uri": "https://localhost:8080/",
          "height": 52
        }
      },
      "source": [
        "import math\n",
        "r=int(input(\"enter the radius: \"))\n",
        "volume= (4/3) * math.pi * (r**3)\n",
        "print(\"The volume of sphere is: \", volume)\n"
      ],
      "execution_count": 0,
      "outputs": [
        {
          "output_type": "stream",
          "text": [
            "enter the radius: 12\n",
            "The volume of sphere is:  7238.229473870882\n"
          ],
          "name": "stdout"
        }
      ]
    },
    {
      "cell_type": "code",
      "metadata": {
        "id": "7osryhGe-Rbk",
        "colab_type": "code",
        "colab": {}
      },
      "source": [
        ""
      ],
      "execution_count": 0,
      "outputs": []
    },
    {
      "cell_type": "markdown",
      "metadata": {
        "id": "EnHaVQ0V-SoX",
        "colab_type": "text"
      },
      "source": [
        "**TASK 2**\n",
        "\n",
        "1.Write a program which accepts a sequence of comma-separated numbers from console and generate a list. "
      ]
    },
    {
      "cell_type": "code",
      "metadata": {
        "id": "h7Giz5Cc-jWl",
        "colab_type": "code",
        "colab": {
          "base_uri": "https://localhost:8080/",
          "height": 52
        },
        "outputId": "42e96c55-7d0a-4476-8bf0-c706e7da7584"
      },
      "source": [
        "c=input()\n",
        "e=c.split(',')\n",
        "\n",
        "e=list(e)\n",
        "print(e)"
      ],
      "execution_count": 6,
      "outputs": [
        {
          "output_type": "stream",
          "text": [
            "1,2,45,67\n",
            "['1', '2', '45', '67']\n"
          ],
          "name": "stdout"
        }
      ]
    },
    {
      "cell_type": "code",
      "metadata": {
        "id": "OtS0J8qmAnMd",
        "colab_type": "code",
        "colab": {}
      },
      "source": [
        ""
      ],
      "execution_count": 0,
      "outputs": []
    },
    {
      "cell_type": "markdown",
      "metadata": {
        "id": "HChPiigMApJB",
        "colab_type": "text"
      },
      "source": [
        "2. Create the below pattern using nested for loop in Python. \n",
        " \n",
        " "
      ]
    },
    {
      "cell_type": "code",
      "metadata": {
        "id": "SSQ3JdcFAzZf",
        "colab_type": "code",
        "colab": {
          "base_uri": "https://localhost:8080/",
          "height": 191
        },
        "outputId": "1d131e30-c03f-4042-bc14-c0ce3dfa8d53"
      },
      "source": [
        "for i in range(5):\n",
        "  for j in range(i):\n",
        "    print('*',end='')\n",
        "  print()\n",
        "\n",
        "for i in range(5,0,-1):\n",
        "  for j in range(i):\n",
        "    print('*',end=\"\")\n",
        "  print()"
      ],
      "execution_count": 7,
      "outputs": [
        {
          "output_type": "stream",
          "text": [
            "\n",
            "*\n",
            "**\n",
            "***\n",
            "****\n",
            "*****\n",
            "****\n",
            "***\n",
            "**\n",
            "*\n"
          ],
          "name": "stdout"
        }
      ]
    },
    {
      "cell_type": "code",
      "metadata": {
        "id": "dwwOMh6VA4k7",
        "colab_type": "code",
        "colab": {}
      },
      "source": [
        ""
      ],
      "execution_count": 0,
      "outputs": []
    },
    {
      "cell_type": "markdown",
      "metadata": {
        "id": "lh-uLwsLA40e",
        "colab_type": "text"
      },
      "source": [
        "3.Write a Python program to reverse a word after accepting the input from the user. "
      ]
    },
    {
      "cell_type": "code",
      "metadata": {
        "id": "vCAyQ8dGA81G",
        "colab_type": "code",
        "colab": {
          "base_uri": "https://localhost:8080/",
          "height": 52
        },
        "outputId": "d7cc5934-989f-473b-f4ca-67212e94248d"
      },
      "source": [
        "i=input(\"enter the string:  \")\n",
        "k=i[::-1]\n",
        "print(k)"
      ],
      "execution_count": 8,
      "outputs": [
        {
          "output_type": "stream",
          "text": [
            "enter the string:  AcadGild \n",
            " dliGdacA\n"
          ],
          "name": "stdout"
        }
      ]
    },
    {
      "cell_type": "code",
      "metadata": {
        "id": "CRYak_tnBI2e",
        "colab_type": "code",
        "colab": {}
      },
      "source": [
        ""
      ],
      "execution_count": 0,
      "outputs": []
    },
    {
      "cell_type": "markdown",
      "metadata": {
        "id": "fWpnI6zDBJHD",
        "colab_type": "text"
      },
      "source": [
        "4.Write a Python Program to print the given string in the format specified in the ​sample output. \n",
        " WE, THE PEOPLE OF INDIA, having solemnly resolved to constitute India into a SOVEREIGN, SOCIALIST, SECULAR, DEMOCRATIC REPUBLIC and to secure to all its citizens \n",
        " "
      ]
    },
    {
      "cell_type": "code",
      "metadata": {
        "id": "QUDiE2g6BOfq",
        "colab_type": "code",
        "colab": {
          "base_uri": "https://localhost:8080/",
          "height": 87
        },
        "outputId": "502d77af-71d9-4cb4-c255-f7106844d136"
      },
      "source": [
        "string = \"WE, THE PEOPLE OF INDIA,{}having solemnly resolved to constitute India into a SOVEREIGN,{}SOCIALIST, SECULAR, DEMOCRATIC REPUBLIC{}and to secure to all its citizens{}\"\n",
        "print(string.format('\\n\\t','!\\n\\t      ','\\n\\t       ',':'))"
      ],
      "execution_count": 9,
      "outputs": [
        {
          "output_type": "stream",
          "text": [
            "WE, THE PEOPLE OF INDIA,\n",
            "\thaving solemnly resolved to constitute India into a SOVEREIGN,!\n",
            "\t      SOCIALIST, SECULAR, DEMOCRATIC REPUBLIC\n",
            "\t       and to secure to all its citizens:\n"
          ],
          "name": "stdout"
        }
      ]
    }
  ]
}